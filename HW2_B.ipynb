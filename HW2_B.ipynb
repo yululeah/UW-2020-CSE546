{
 "cells": [
  {
   "cell_type": "code",
   "execution_count": 1,
   "metadata": {},
   "outputs": [
    {
     "data": {
      "image/png": "[encoded data removed]",
      "text/plain": [
       "<Figure size 432x288 with 1 Axes>"
      ]
     },
     "metadata": {
      "needs_background": "light"
     },
     "output_type": "display_data"
    }
   ],
   "source": [
    "#B2 c\n",
    "import matplotlib.pyplot as plt\n",
    "%matplotlib inline\n",
    "import numpy as np\n",
    "\n",
    "x = y = np.arange(-4, 4, 0.1)\n",
    "x, y = np.meshgrid(x,y)\n",
    "plt.contour(x, y, (abs(x)**(1/2) + abs(y)**(1/2))**2, [4]) \n",
    "plt.axis('scaled')\n",
    "plt.xlabel('$x_1$')\n",
    "plt.ylabel('$x_2$')\n",
    "plt.show()"
   ]
  },
  {
   "cell_type": "code",
   "execution_count": 2,
   "metadata": {},
   "outputs": [],
   "source": [
    "\"\"\"\n",
    "Created on Sat May  9 22:49:19 2020\n",
    "CSE 546 HW2 B4\n",
    "@author: Leah\n",
    "\"\"\"\n",
    "import numpy as np\n",
    "from mnist import MNIST\n",
    "import torch\n",
    "import torch.nn.functional as F #softmax\n",
    "\n",
    "def load_dataset():\n",
    "    mndata = MNIST('./data/')\n",
    "    X_train, labels_train = map(np.array, mndata.load_training()) \n",
    "    X_test, labels_test = map(np.array, mndata.load_testing()) \n",
    "    X_train = X_train/255.0\n",
    "    X_test = X_test/255.0\n",
    "   \n",
    "    return X_train, labels_train, X_test, labels_test\n",
    "\n",
    "#LOAD data\n",
    "X_train, y_train, X_test, y_test = load_dataset()  "
   ]
  },
  {
   "cell_type": "code",
   "execution_count": 3,
   "metadata": {},
   "outputs": [],
   "source": [
    "def onehot(X):\n",
    "    '''\n",
    "    For each yi let yi be the one-hot encoding of yi (i.e., yi ∈ {0, 1}^k is a \n",
    "    vector of all zeros aside from a 1 in the yith index).\n",
    "    k = 10\n",
    "    '''\n",
    "    n_classes = 10\n",
    "    ## transform labels_train(n-by-1) into n-by-k\n",
    "    Y = np.zeros((len(X),n_classes))\n",
    "    for i in range(0,len(Y)):\n",
    "        Y[i,X[i]] = 1\n",
    "    return Y"
   ]
  },
  {
   "cell_type": "code",
   "execution_count": 4,
   "metadata": {},
   "outputs": [],
   "source": [
    "# =============================================================================\n",
    "# main\n",
    "# =============================================================================\n",
    "\n",
    "X_train = torch.tensor(X_train)\n",
    "X_test = torch.tensor(X_test)\n",
    "y_test = torch.tensor(y_test)\n",
    "y_train = torch.tensor(y_train)\n",
    "y_train = y_train.long()\n"
   ]
  },
  {
   "cell_type": "code",
   "execution_count": 8,
   "metadata": {},
   "outputs": [
    {
     "name": "stdout",
     "output_type": "stream",
     "text": [
      "After runing MSE for 5000 times, the classification accuracy on the training sets :  0.8507\n",
      "The classification accuracy on the test sets :  0.8576\n"
     ]
    }
   ],
   "source": [
    "# =============================================================================\n",
    "# J(W) \n",
    "# =============================================================================\n",
    "step_size = 0.0000001\n",
    "epochs = 5000\n",
    "W = torch.zeros(784, 10, dtype= torch.double, requires_grad=True) \n",
    "y_train_onehot = torch.tensor (onehot ( y_train ))\n",
    "for epoch in range(epochs):\n",
    "    y_hat = torch.matmul(X_train, W)\n",
    "    # cross entropy combines softmax calculation with NLLLoss \n",
    "    #0.5*torch.sum(torch.norm(y_tensor-y_hat,dim=1))**2/n\n",
    "    loss = 0.5 * torch.mean(torch.norm(y_train_onehot - y_hat, p='fro') ** 2 )\n",
    "    #loss = torch.nn.functional.cross_entropy(y_hat, y_train) \n",
    "    # computes derivatives of the loss with respect to W \n",
    "    loss.backward()\n",
    "    #train_losses.append(loss.item())\n",
    "    # gradient descent update\n",
    "    W.data = W.data - step_size * W.grad\n",
    "    # .backward() accumulates gradients into W.grad instead\n",
    "    # of overwriting, so we need to zero out the weights \n",
    "    W.grad.zero_()\n",
    "    \n",
    "print('After runing MSE for',str(epochs), 'times, the classification accuracy on the training sets : ', \n",
    "      sum(torch.argmax(torch.matmul(X_train, W),dim = 1) == y_train).numpy() / len(y_train))\n",
    "print('The classification accuracy on the test sets : ', \n",
    "      sum(torch.argmax(torch.matmul(X_test, W),dim = 1) == y_test).numpy() / len(y_test))\n",
    "\n"
   ]
  },
  {
   "cell_type": "code",
   "execution_count": 7,
   "metadata": {},
   "outputs": [
    {
     "name": "stdout",
     "output_type": "stream",
     "text": [
      "After runing cross-entropy loss function for 2500 times, the classification accuracy on the training sets :  0.9059166666666667\n",
      "The classification accuracy on the test sets :  0.9107\n"
     ]
    }
   ],
   "source": [
    "# =============================================================================\n",
    "# L(W)\n",
    "# =============================================================================\n",
    "W = torch.zeros(784, 10, dtype= torch.double, requires_grad=True) \n",
    "epochs = 2500\n",
    "step_size = 0.05 \n",
    "\n",
    "for epoch in range(epochs):\n",
    "    y_hat = torch.matmul(X_train, W)\n",
    "    # cross entropy combines softmax calculation with NLLLoss \n",
    "    loss = torch.nn.functional.cross_entropy(y_hat, y_train) \n",
    "    # computes derivatives of the loss with respect to W \n",
    "    loss.backward()\n",
    "    #train_losses.append(loss.item())\n",
    "    # gradient descent update\n",
    "    W.data = W.data - step_size * W.grad\n",
    "    # .backward() accumulates gradients into W.grad instead\n",
    "    # of overwriting, so we need to zero out the weights \n",
    "    W.grad.zero_()\n",
    "    \n",
    "print('After runing cross-entropy loss function for',str(epochs), 'times, the classification accuracy on the training sets : ', \n",
    "      sum(torch.argmax(torch.matmul(X_train, W),dim = 1) == y_train).numpy() / len(y_train))\n",
    "print('The classification accuracy on the test sets : ', \n",
    "      sum(torch.argmax(torch.matmul(X_test, W),dim = 1) == y_test).numpy() / len(y_test))"
   ]
  }
 ],
 "metadata": {
  "kernelspec": {
   "display_name": "Python 3",
   "language": "python",
   "name": "python3"
  },
  "language_info": {
   "codemirror_mode": {
    "name": "ipython",
    "version": 3
   },
   "file_extension": ".py",
   "mimetype": "text/x-python",
   "name": "python",
   "nbconvert_exporter": "python",
   "pygments_lexer": "ipython3",
   "version": "3.7.3"
  }
 },
 "nbformat": 4,
 "nbformat_minor": 2
}
